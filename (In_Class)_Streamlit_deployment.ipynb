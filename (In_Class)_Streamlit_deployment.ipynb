{
  "nbformat": 4,
  "nbformat_minor": 0,
  "metadata": {
    "colab": {
      "provenance": [],
      "include_colab_link": true
    },
    "kernelspec": {
      "name": "python3",
      "display_name": "Python 3"
    },
    "language_info": {
      "name": "python"
    }
  },
  "cells": [
    {
      "cell_type": "markdown",
      "metadata": {
        "id": "view-in-github",
        "colab_type": "text"
      },
      "source": [
        "<a href=\"https://colab.research.google.com/github/Kaufmann11/streamlit-exercise-Kaufmann11/blob/main/(In_Class)_Streamlit_deployment.ipynb\" target=\"_parent\"><img src=\"https://colab.research.google.com/assets/colab-badge.svg\" alt=\"Open In Colab\"/></a>"
      ]
    },
    {
      "cell_type": "markdown",
      "source": [
        "# Creating a Streamlit App"
      ],
      "metadata": {
        "id": "7Km3-YM2kRwQ"
      }
    },
    {
      "cell_type": "markdown",
      "source": [
        "## Step 1: Create the main script file app.py"
      ],
      "metadata": {
        "id": "sIKeDTzbF-EX"
      }
    },
    {
      "cell_type": "code",
      "source": [
        "%%writefile app.py\n",
        "import pandas as pd\n",
        "import plotly.express as px\n",
        "import streamlit as st\n",
        "\n",
        "st.set_page_config(page_title='Medals Visualization', layout='wide')\n",
        "st.title(\"Medals Visualization\")\n",
        "\n",
        "medal= st.selectbox(\"Medal type\", [\"gold\", 'silver', 'bronze'])\n",
        "\n",
        "#Checkboxes\n",
        "show_bar=st.checkbox(\"Show Bar Chart\", value=True)\n",
        "show_bar=st.checkbox(\"Show Pie Chart\", value=True)\n",
        "\n",
        "#two-col structure\n",
        "\n",
        "col1, col2= st.columns(2)\n",
        "\n",
        "#load the medal wide dataset\n",
        "df = px.data.medals_wide()\n",
        "\n",
        "#plot the bar chart\n",
        "\n",
        "if show_bar:\n",
        "  fig_bar=px.bar(\n",
        "    df,\n",
        "    x=\"nation\",\n",
        "    y=f\"{medal}\",\n",
        "    title=f\"Medals count ({medal})\"\n",
        "  )\n",
        "\n",
        "  fig_bar.update_layout(\n",
        "      title_x=0.5,\n",
        "      xaxis_title=\"Nation\",\n",
        "      yaxis_title=\"Count\",\n",
        "      height=300\n",
        "  )\n",
        "\n",
        "  col1.plotly_chart(fig_bar, use_container_width=True)\n",
        "\n",
        "if show_pie:\n",
        "  fig_pie=px.pie(\n",
        "    df,\n",
        "    names=\"nation\",\n",
        "    values=f\"{medal}\",\n",
        "    title=f\"Medals count ({medal})\"\n",
        "  )\n",
        "\n",
        "  fig_pie.update_layout(\n",
        "      title_x=0.5,\n",
        "      height=300\n",
        "  )\n",
        "\n",
        "  col2.plotly_chart(fig_pie, use_container_width=True)\n",
        ""
      ],
      "metadata": {
        "id": "wAU0mogSkUP1"
      },
      "execution_count": null,
      "outputs": []
    },
    {
      "cell_type": "markdown",
      "source": [
        "## Step 2: Create the requirements.txt file"
      ],
      "metadata": {
        "id": "mGT9MEjLGFiM"
      }
    },
    {
      "cell_type": "code",
      "source": [
        "pandas\n",
        "plotly\n",
        "streamlit"
      ],
      "metadata": {
        "id": "1VDmmeSflmRd"
      },
      "execution_count": null,
      "outputs": []
    },
    {
      "cell_type": "markdown",
      "source": [
        "## Step 3: Create a GitHub Repo that contains those files"
      ],
      "metadata": {
        "id": "a4Q96WgelvqE"
      }
    },
    {
      "cell_type": "markdown",
      "source": [
        "## Step 4: Deploy to https://share.streamlit.io/. (Create an account using your GitHub account)"
      ],
      "metadata": {
        "id": "pKMDhOt9luzV"
      }
    }
  ]
}